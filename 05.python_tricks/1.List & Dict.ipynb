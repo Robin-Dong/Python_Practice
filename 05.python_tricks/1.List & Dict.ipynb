{
 "cells": [
  {
   "cell_type": "markdown",
   "metadata": {},
   "source": [
    "1.如何在列表，字典，集合中根据条件筛选数据  \n",
    "过滤列表[3,9,-1,10,20,-2...]中的负数  \n",
    "筛出字典{'A':38,'B':75,'C':93...}大于90的项  \n",
    "筛出集合{77,89,32,20...}中能被3整除的元素  "
   ]
  },
  {
   "cell_type": "code",
   "execution_count": 31,
   "metadata": {},
   "outputs": [
    {
     "data": {
      "text/plain": [
       "0.2749329670332372"
      ]
     },
     "execution_count": 31,
     "metadata": {},
     "output_type": "execute_result"
    }
   ],
   "source": [
    "#高级函数filter\n",
    "from random import randint\n",
    "data = [randint(-10,10) for _ in range(10)]\n",
    "import timeit\n",
    "\n",
    "def test():\n",
    "    a = filter(lambda x: x >=0, data)\n",
    "    \n",
    "timeit.timeit(\"test()\",setup=\"from __main__ import test\")    "
   ]
  },
  {
   "cell_type": "code",
   "execution_count": 30,
   "metadata": {},
   "outputs": [
    {
     "data": {
      "text/plain": [
       "0.6066385130397975"
      ]
     },
     "execution_count": 30,
     "metadata": {},
     "output_type": "execute_result"
    }
   ],
   "source": [
    "# 列表解析更快?python3 filer更快\n",
    "import timeit\n",
    "from random import randint\n",
    "data = [randint(-10,10) for _ in range(10)]\n",
    "\n",
    "def test():\n",
    "    re = [num for num in data if num>=0]\n",
    "    \n",
    "timeit.timeit(\"test()\",setup=\"from __main__ import test\")    "
   ]
  },
  {
   "cell_type": "code",
   "execution_count": 15,
   "metadata": {},
   "outputs": [
    {
     "name": "stdout",
     "output_type": "stream",
     "text": [
      "{1: 75, 2: 63, 3: 80, 4: 71, 5: 100, 6: 79, 7: 71, 8: 85, 9: 80, 10: 77, 11: 67, 12: 82, 13: 97, 14: 73, 15: 75, 16: 87, 17: 93, 18: 100, 19: 69, 20: 61}\n",
      "{17: 93, 18: 100, 5: 100, 13: 97}\n"
     ]
    }
   ],
   "source": [
    "#字典删除某些元素\n",
    "d = {x:randint(60,100) for x in range(1,21)}\n",
    "print(d)\n",
    "re = {k:v for k,v in d.items() if v >90}\n",
    "print(re)"
   ]
  },
  {
   "cell_type": "code",
   "execution_count": 35,
   "metadata": {},
   "outputs": [
    {
     "name": "stdout",
     "output_type": "stream",
     "text": [
      "{-6, 3, 6}\n"
     ]
    }
   ],
   "source": [
    "#筛选集合中能被3 整除的数\n",
    "from random import randint\n",
    "data = [randint(-10,10) for _ in range(10)]\n",
    "s = set(data)\n",
    "re = {i for i in s if i%3==0}\n",
    "print(re)"
   ]
  },
  {
   "cell_type": "markdown",
   "metadata": {},
   "source": [
    "2.如何为元组元素命名，提高程序可读性  \n",
    "信息系统的数据格式为固定格式：（名字，性别，年龄，邮箱） \n",
    "元组优势：所占空间少，访问速度快\n",
    "\n"
   ]
  },
  {
   "cell_type": "code",
   "execution_count": 39,
   "metadata": {},
   "outputs": [
    {
     "name": "stdout",
     "output_type": "stream",
     "text": [
      "jim\n"
     ]
    }
   ],
   "source": [
    "student = ('jim', 16, 'male','jimlim@xx.com')\n",
    "#方案一 类似宏定义\n",
    "NAME = 0\n",
    "AGE = 1\n",
    "SEX = 2\n",
    "EMAIL = 3\n",
    "#或是这样,推荐\n",
    "NAME,AGE,SEX,EMAIL = range(0,4)\n",
    "\n",
    "#访问元组，可以清晰知道哪个对应位置\n",
    "print(student[NAME])\n",
    "if student[AGE] > 20:\n",
    "    pass"
   ]
  },
  {
   "cell_type": "code",
   "execution_count": 45,
   "metadata": {},
   "outputs": [
    {
     "name": "stdout",
     "output_type": "stream",
     "text": [
      "jimlim@xx.com\n"
     ]
    }
   ],
   "source": [
    "# namedtuple 方式，是tuple的子类\n",
    "from collections import namedtuple\n",
    "# 构建类Student，类似工厂方法\n",
    "Student = namedtuple('Student',['name','age','sex','email'])\n",
    "\n",
    "# 实例化\n",
    "s = Student('jim', 16, 'male','jimlim@xx.com')\n",
    "# 或是用位置参数\n",
    "#s = Student(name='jim',age=16,sex='male',email='jim8721@gmail.com')\n",
    "\n",
    "print(s.email)"
   ]
  },
  {
   "cell_type": "markdown",
   "metadata": {},
   "source": [
    "3.如何统计序列中元素的出现频度\n",
    "- 某一随机数列中，找到出现次数最多的3个元素，打印他们的计算次数\n",
    "- 对英文文章的单词进行词频统计，找到出现次数最高的10个单词，打印出现次数"
   ]
  },
  {
   "cell_type": "code",
   "execution_count": 48,
   "metadata": {},
   "outputs": [
    {
     "data": {
      "text/plain": [
       "{2: 0,\n",
       " 4: 0,\n",
       " 5: 0,\n",
       " 6: 0,\n",
       " 7: 0,\n",
       " 8: 0,\n",
       " 9: 0,\n",
       " 10: 0,\n",
       " 11: 0,\n",
       " 12: 0,\n",
       " 13: 0,\n",
       " 14: 0,\n",
       " 15: 0,\n",
       " 17: 0}"
      ]
     },
     "execution_count": 48,
     "metadata": {},
     "output_type": "execute_result"
    }
   ],
   "source": [
    "from random import randint\n",
    "data = [randint(0,20) for _ in range(20)]\n",
    "c = dict.fromkeys(data,0)\n",
    "# 方法一，桶排序，循环data，遇到每个值就在c的对应key的value上加一。"
   ]
  },
  {
   "cell_type": "code",
   "execution_count": 51,
   "metadata": {},
   "outputs": [
    {
     "name": "stdout",
     "output_type": "stream",
     "text": [
      "Counter({6: 3, 4: 2, 9: 2, 10: 2, 11: 2, 2: 1, 5: 1, 7: 1, 8: 1, 12: 1, 13: 1, 14: 1, 15: 1, 17: 1})\n",
      "[(6, 3), (4, 2), (9, 2)]\n"
     ]
    }
   ],
   "source": [
    "#方法二：内置技术模块\n",
    "from collections import Counter\n",
    "c2 = Counter(data)\n",
    "print(c2)\n",
    "# 获取频数最高的3个元素\n",
    "re = c2.most_common(3)\n",
    "print(re)"
   ]
  },
  {
   "cell_type": "code",
   "execution_count": 30,
   "metadata": {},
   "outputs": [
    {
     "data": {
      "text/plain": [
       "[('is', 10),\n",
       " ('than', 8),\n",
       " ('better', 8),\n",
       " ('the', 5),\n",
       " ('to', 5),\n",
       " ('never', 3),\n",
       " ('idea', 3),\n",
       " ('it', 3),\n",
       " ('Although', 3),\n",
       " ('be', 3)]"
      ]
     },
     "execution_count": 30,
     "metadata": {},
     "output_type": "execute_result"
    }
   ],
   "source": [
    "import re\n",
    "from collections import Counter\n",
    "\n",
    "s = '''\n",
    "Beautiful is better than ugly.\n",
    "Explicit is better than implicit.\n",
    "Simple is better than complex.\n",
    "Complex is better than complicated.\n",
    "Flat is better than nested.\n",
    "Sparse is better than dense.\n",
    "Readability counts.\n",
    "Special cases aren't special enough to break the rules.\n",
    "Although practicality beats purity.\n",
    "Errors should never pass silently.\n",
    "Unless explicitly silenced.\n",
    "In the face of ambiguity, refuse the temptation to guess.\n",
    "There should be one-- and preferably only one --obvious way to do it.\n",
    "Although that way may not be obvious at first unless you're Dutch.\n",
    "Now is better than never.\n",
    "Although never is often better than *right* now.\n",
    "If the implementation is hard to explain, it's a bad idea.\n",
    "If the implementation is easy to explain, it may be a good idea.\n",
    "Namespaces are one honking great idea -- let's do more of those!\n",
    "'''\n",
    "c3 = Counter(re.split('\\W+', s))\n",
    "c3.most_common(10)\n"
   ]
  },
  {
   "cell_type": "code",
   "execution_count": null,
   "metadata": {},
   "outputs": [],
   "source": [
    "4.如何根据字典中的值的大小，对字典中的项排序  \n",
    "某班成绩{'lili':79,'jim':80,'lucy':92...},根据成绩高低，排名\n"
   ]
  },
  {
   "cell_type": "code",
   "execution_count": 43,
   "metadata": {
    "scrolled": true
   },
   "outputs": [
    {
     "data": {
      "text/plain": [
       "[('c', 96), ('z', 78), ('a', 77), ('y', 73), ('b', 73), ('x', 63)]"
      ]
     },
     "execution_count": 43,
     "metadata": {},
     "output_type": "execute_result"
    }
   ],
   "source": [
    "#排序，优先使用内置sorted，1利用zip变成元组 2.利用sorted的key排序\n",
    "from random import randint\n",
    "d = {x:randint(60,100) for x in 'xyzabc'}\n",
    "#直接对字典排序只是对key排序，sorted对可迭代对象\n",
    "sorted(d)\n",
    "# 字典的可迭代对象\n",
    "list(iter(d))\n",
    "\n",
    "# 法一：将字典变为元组再比较\n",
    "sorted(zip(d.values(),d.keys()),reverse=True)\n",
    "\n",
    "# 法二：利用values作为比较值\n",
    "sorted(d.items(),key= lambda x:x[1],reverse=True)"
   ]
  },
  {
   "cell_type": "markdown",
   "metadata": {},
   "source": [
    "5如何快速找到多个字典的公共键？  \n",
    "比赛：  \n",
    "第一轮 {'A':5,'B':2,'f':1}  \n",
    "第二轮 {'A':1,'C':4,'D':2}  \n",
    "第三轮 {'A':1,'D':3,'B':1}  \n",
    "\n",
    "找出每轮比赛都有进球的球员  \n",
    "\n",
    "利用集合set 交集操作  \n",
    "step1:使用字典的.keys()方法得到一个字典keys的集合  \n",
    "step2:使用map函数，得到所有字典的keys的集合  \n",
    "step3：使用reduce函数，取所有字典的keys的集合交集  "
   ]
  },
  {
   "cell_type": "code",
   "execution_count": 15,
   "metadata": {},
   "outputs": [
    {
     "data": {
      "text/plain": [
       "['a', 'd']"
      ]
     },
     "execution_count": 15,
     "metadata": {},
     "output_type": "execute_result"
    }
   ],
   "source": [
    "from random import randint, sample\n",
    "#sample('abcdefg', 3)\n",
    "sample('abcdefg', randint(3,6))\n",
    "s1 = {x: randint(1,4) for x in sample('abcdefg', randint(3,6))}\n",
    "s2 = {x: randint(1,4) for x in sample('abcdefg', randint(3,6))}\n",
    "s3 = {x: randint(1,4) for x in sample('abcdefg', randint(3,6))}\n",
    "result = []\n",
    "for k in s1:\n",
    "    if k in s2 and k in s3:\n",
    "        result.append(k)\n",
    "result"
   ]
  },
  {
   "cell_type": "code",
   "execution_count": 24,
   "metadata": {},
   "outputs": [
    {
     "data": {
      "text/plain": [
       "{'a', 'd'}"
      ]
     },
     "execution_count": 24,
     "metadata": {},
     "output_type": "execute_result"
    }
   ],
   "source": [
    "from functools import reduce\n",
    "# 前3轮\n",
    "s1.keys() & s2.keys() &s3.keys()\n",
    "#前n轮\n",
    "map(dict.keys,[s1,s2,s3])\n",
    "reduce(lambda a,b:a&b, map(dict.keys,[s1,s2,s3]))"
   ]
  },
  {
   "cell_type": "markdown",
   "metadata": {},
   "source": [
    "6.如何让字典变得有序？\n",
    "{'name':('NO',score)}  \n",
    "如{'a':(3,94),'c':(4,92),'b':(6,89),'d':(1,98)}\n",
    "第一的第一个输入，\n",
    "解决：collections下的OrderedDict"
   ]
  },
  {
   "cell_type": "code",
   "execution_count": 30,
   "metadata": {},
   "outputs": [
    {
     "name": "stdout",
     "output_type": "stream",
     "text": [
      "c\n",
      "a\n",
      "b\n"
     ]
    }
   ],
   "source": [
    "from collections import OrderedDict\n",
    "d = OrderedDict()\n",
    "d['c'] = 97\n",
    "d['a'] = 94\n",
    "d['b'] = 92\n",
    "for k in d:\n",
    "    print(k)"
   ]
  },
  {
   "cell_type": "code",
   "execution_count": 2,
   "metadata": {},
   "outputs": [
    {
     "name": "stdout",
     "output_type": "stream",
     "text": [
      "\n",
      "1 A 1.2552359104156494\n",
      "\n",
      "2 F 1.8838109970092773\n",
      "\n",
      "3 B 2.3850324153900146\n",
      "\n",
      "4 H 2.905320405960083\n",
      "\n",
      "5 D 3.4034016132354736\n",
      "\n",
      "6 C 3.951446294784546\n",
      "\n",
      "7 G 4.489906311035156\n",
      "\n",
      "8 E 5.311506986618042\n"
     ]
    }
   ],
   "source": [
    "from time import time \n",
    "from random import randint\n",
    "from collections import OrderedDict\n",
    "\n",
    "d = OrderedDict()\n",
    "players = list('ABCDEFGH')\n",
    "start = time()\n",
    "for i in range(8):\n",
    "    input()\n",
    "    p = players.pop(randint(0,7-i))\n",
    "    end = time()\n",
    "    print(i+1,p, end-start)\n",
    "    d[p] = (i+1,p,end-start)"
   ]
  },
  {
   "cell_type": "markdown",
   "metadata": {},
   "source": [
    "7.如何实现用户的历史记录功能(最多n条）  \n",
    "制作一个猜数字的小游戏，添加历史记录，显示最近猜过的数字\n",
    "使用队列实现，collections下的deque,双端队列\n",
    "然后将数据序列化pickle"
   ]
  },
  {
   "cell_type": "code",
   "execution_count": 12,
   "metadata": {},
   "outputs": [
    {
     "name": "stdout",
     "output_type": "stream",
     "text": [
      "deque([], maxlen=5)\n"
     ]
    },
    {
     "data": {
      "text/plain": [
       "deque([3, 3, 4, 8, 2])"
      ]
     },
     "execution_count": 12,
     "metadata": {},
     "output_type": "execute_result"
    }
   ],
   "source": [
    "from collections import deque\n",
    "#最多5条\n",
    "q = deque([],5)\n",
    "print(q)\n",
    "q.append(5)\n",
    "q.append(3)\n",
    "q.append(3)\n",
    "q.append(4)\n",
    "q.append(8)\n",
    "q.append(2)\n",
    "q.dump"
   ]
  },
  {
   "cell_type": "code",
   "execution_count": 29,
   "metadata": {},
   "outputs": [
    {
     "data": {
      "text/plain": [
       "deque([3, 3, 4, 8, 2])"
      ]
     },
     "execution_count": 29,
     "metadata": {},
     "output_type": "execute_result"
    }
   ],
   "source": [
    "import pickle\n",
    "pickle.dump(q, open('history','wb'))\n",
    "q2 = pickle.load(open('history','rb'))\n",
    "q2"
   ]
  }
 ],
 "metadata": {
  "kernelspec": {
   "display_name": "Python 3",
   "language": "python",
   "name": "python3"
  },
  "language_info": {
   "codemirror_mode": {
    "name": "ipython",
    "version": 3
   },
   "file_extension": ".py",
   "mimetype": "text/x-python",
   "name": "python",
   "nbconvert_exporter": "python",
   "pygments_lexer": "ipython3",
   "version": "3.5.5"
  }
 },
 "nbformat": 4,
 "nbformat_minor": 2
}
