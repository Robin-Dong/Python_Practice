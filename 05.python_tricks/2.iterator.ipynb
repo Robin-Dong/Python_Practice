{
 "cells": [
  {
   "cell_type": "markdown",
   "metadata": {},
   "source": [
    "1.如何实现可迭代对象和迭代器对象？\n",
    "数据抓取较大时，数据应采用，用时访问？，抓取一条存储显示一条。\n",
    "\n",
    "可迭代对象和迭代器对象转化iter(list) \n",
    "可迭代对象内部调用了list.__iter__()方法\n",
    "\n",
    "collections下已经封装了Iterable，Itrator\n",
    "可以使用.__abstractmethods__ 查看其使用接口是什么"
   ]
  },
  {
   "cell_type": "code",
   "execution_count": 19,
   "metadata": {},
   "outputs": [
    {
     "data": {
      "text/plain": [
       "'深圳:低温 22℃,高温 27℃'"
      ]
     },
     "execution_count": 19,
     "metadata": {},
     "output_type": "execute_result"
    }
   ],
   "source": [
    "import requests\n",
    "\n",
    "def getWeather(city):\n",
    "    url = 'http://wthrcdn.etouch.cn/weather_mini?city=' + city\n",
    "    r = requests.get(url)\n",
    "    data = r.json()['data']['forecast'][0]\n",
    "    return '%s:%s,%s'%(city,data['low'],data['high'])\n",
    "getWeather('深圳')"
   ]
  },
  {
   "cell_type": "code",
   "execution_count": 2,
   "metadata": {},
   "outputs": [
    {
     "name": "stdout",
     "output_type": "stream",
     "text": [
      "深圳:低温 22℃,高温 27℃\n",
      "广州:低温 19℃,高温 26℃\n",
      "珠海:低温 21℃,高温 28℃\n"
     ]
    }
   ],
   "source": [
    "from collections import Iterable,Iterator\n",
    "import requests\n",
    "\n",
    "class WeatherIterator(Iterator):\n",
    "    def __init__(self, cities):\n",
    "        self.cities = cities\n",
    "        self.index = 0\n",
    "    \n",
    "    def getWeather(self, city):\n",
    "        url = 'http://wthrcdn.etouch.cn/weather_mini?city=' + city\n",
    "        r = requests.get(url)\n",
    "        data = r.json()['data']['forecast'][0]\n",
    "        return '%s:%s,%s'%(city,data['low'],data['high'])\n",
    "\n",
    "    def __next__(self):\n",
    "        if self.index == len(self.cities):\n",
    "            raise StopIteration\n",
    "        city = self.cities[self.index]\n",
    "        self.index += 1\n",
    "        return self.getWeather(city)\n",
    "\n",
    "\n",
    "class WeatherIterable(Iterable):\n",
    "    def __init__(self,cities):\n",
    "        self.cities = cities\n",
    "        \n",
    "    def __iter__(self):\n",
    "        return WeatherIterator(self.cities)\n",
    " \n",
    "city_list =['深圳','广州','珠海']\n",
    "for x in WeatherIterable(city_list):\n",
    "    print(x)  "
   ]
  },
  {
   "cell_type": "markdown",
   "metadata": {},
   "source": [
    "2.如何使用生成器函数实现可迭代对对象？实现一个可迭代对象的类，它能迭代出给定范围的所有素数\n",
    "\n",
    "包含yield语句的函数为生成器函数。\n",
    "g = f()  g生成器对象本身是可迭代对象,g.__iter__() 返回自身即生成器对象\n",
    "\n",
    "g.__iter__() is g  #True"
   ]
  },
  {
   "cell_type": "code",
   "execution_count": 3,
   "metadata": {},
   "outputs": [],
   "source": [
    "def f():\n",
    "    i = 2\n",
    "    yield i\n",
    "g = f()"
   ]
  },
  {
   "cell_type": "code",
   "execution_count": 15,
   "metadata": {
    "collapsed": true
   },
   "outputs": [
    {
     "name": "stdout",
     "output_type": "stream",
     "text": [
      "3\n",
      "5\n",
      "7\n",
      "9\n",
      "11\n",
      "13\n",
      "15\n",
      "17\n",
      "19\n",
      "21\n",
      "23\n",
      "25\n",
      "27\n",
      "29\n",
      "31\n",
      "33\n",
      "35\n",
      "37\n",
      "39\n",
      "41\n",
      "43\n",
      "45\n",
      "47\n",
      "49\n",
      "51\n",
      "53\n",
      "55\n",
      "57\n",
      "59\n",
      "61\n",
      "63\n",
      "65\n",
      "67\n",
      "69\n",
      "71\n",
      "73\n",
      "75\n",
      "77\n",
      "79\n",
      "81\n",
      "83\n",
      "85\n",
      "87\n",
      "89\n",
      "91\n",
      "93\n",
      "95\n",
      "97\n",
      "99\n"
     ]
    }
   ],
   "source": [
    "class PrimeNumbers(object):\n",
    "    def __init__(self, start, end):\n",
    "        self.start = start\n",
    "        self.end = end\n",
    "        \n",
    "    def isPrimeNum(self, k):\n",
    "        if k < 2:\n",
    "            return False\n",
    "        for i in range(2,k):\n",
    "            if k % i == 0:\n",
    "                return False\n",
    "            return True\n",
    "    \n",
    "    def __iter__(self):\n",
    "        for k in range(self.start, self.end+1):\n",
    "            if self.isPrimeNum(k):\n",
    "                yield k\n",
    "for x in PrimeNumbers(1,100):\n",
    "    print(x)"
   ]
  },
  {
   "cell_type": "markdown",
   "metadata": {},
   "source": [
    "3.如何进行反向迭代以及如何实现反向迭代？如\n",
    "常规方法：对一个列表l=[1,2,3,4,5]反向迭代\n",
    "1. l.reverse()先反向再迭代，修改了原列表\n",
    "2. l[::-1] 切片，但生成了新列表，浪费空间\n",
    "\n",
    "最佳：\n",
    "用reversed()方法,得到列表反向迭代器，和iter(l)相反，内部调用l.__reversed__()方法"
   ]
  },
  {
   "cell_type": "code",
   "execution_count": 23,
   "metadata": {},
   "outputs": [
    {
     "name": "stdout",
     "output_type": "stream",
     "text": [
      "1.0\n",
      "1.5\n",
      "2.0\n",
      "2.5\n",
      "3.0\n",
      "3.5\n",
      "4.0\n"
     ]
    },
    {
     "ename": "TypeError",
     "evalue": "argument to reversed() must be a sequence",
     "output_type": "error",
     "traceback": [
      "\u001b[0;31m---------------------------------------------------------------------------\u001b[0m",
      "\u001b[0;31mTypeError\u001b[0m                                 Traceback (most recent call last)",
      "\u001b[0;32m<ipython-input-23-fe89669197fe>\u001b[0m in \u001b[0;36m<module>\u001b[0;34m()\u001b[0m\n\u001b[1;32m     18\u001b[0m     \u001b[0mprint\u001b[0m\u001b[0;34m(\u001b[0m\u001b[0mx\u001b[0m\u001b[0;34m)\u001b[0m\u001b[0;34m\u001b[0m\u001b[0m\n\u001b[1;32m     19\u001b[0m \u001b[0;34m\u001b[0m\u001b[0m\n\u001b[0;32m---> 20\u001b[0;31m \u001b[0;32mfor\u001b[0m \u001b[0mx\u001b[0m \u001b[0;32min\u001b[0m \u001b[0mreversed\u001b[0m\u001b[0;34m(\u001b[0m\u001b[0mFloatRange\u001b[0m\u001b[0;34m(\u001b[0m\u001b[0;36m1.0\u001b[0m\u001b[0;34m,\u001b[0m\u001b[0;36m4.0\u001b[0m\u001b[0;34m,\u001b[0m\u001b[0;36m0.5\u001b[0m\u001b[0;34m)\u001b[0m\u001b[0;34m)\u001b[0m\u001b[0;34m:\u001b[0m\u001b[0;34m\u001b[0m\u001b[0m\n\u001b[0m\u001b[1;32m     21\u001b[0m     \u001b[0mprint\u001b[0m\u001b[0;34m(\u001b[0m\u001b[0mx\u001b[0m\u001b[0;34m)\u001b[0m\u001b[0;34m\u001b[0m\u001b[0m\n",
      "\u001b[0;31mTypeError\u001b[0m: argument to reversed() must be a sequence"
     ]
    }
   ],
   "source": [
    "class FloatRange(object):\n",
    "    def __init__(self, start, end, step=0.1):\n",
    "        self.start = start\n",
    "        self.end = end\n",
    "        self.step = step\n",
    "    def __iter__(self):\n",
    "        t = self.start\n",
    "        while t <= self.end:\n",
    "            yield t\n",
    "            t += self.step\n",
    "            \n",
    "    def __reversed__(self):\n",
    "        t = self.end\n",
    "        while t >= self.start:\n",
    "            yield t\n",
    "            t -=self.step\n",
    "for x in FloatRange(1.0,4.0,0.5):\n",
    "    print(x)\n",
    "    \n",
    "for x in reversed(FloatRange(1.0,4.0,0.5)):\n",
    "    print(x)"
   ]
  },
  {
   "cell_type": "markdown",
   "metadata": {},
   "source": [
    "5.如何对迭代器做切片操作？\n",
    "读取某文本文件100～300行之间的内容，python文本为可迭代对象，可否使用类似的列表切片方式得到指定内容的生成器？\n",
    "f = open('a.txt','r')\n",
    "f[100:300]??\n",
    "f.readlines() #一次把文件全都读取\n",
    "\n",
    "f.seek(0) # 返回文件头部\n",
    "for line in f：\n",
    "    print(line)\n",
    "   \n",
    "使用itertools下的islice，但本身会改变文件的读取指针，会消耗原来的迭代对象，每次使用时重新复制文件"
   ]
  },
  {
   "cell_type": "code",
   "execution_count": 24,
   "metadata": {},
   "outputs": [
    {
     "ename": "NameError",
     "evalue": "name 'islice' is not defined",
     "output_type": "error",
     "traceback": [
      "\u001b[0;31m---------------------------------------------------------------------------\u001b[0m",
      "\u001b[0;31mNameError\u001b[0m                                 Traceback (most recent call last)",
      "\u001b[0;32m<ipython-input-24-0a7bc5c29183>\u001b[0m in \u001b[0;36m<module>\u001b[0;34m()\u001b[0m\n\u001b[0;32m----> 1\u001b[0;31m \u001b[0mislice\u001b[0m\u001b[0;34m(\u001b[0m\u001b[0mf\u001b[0m\u001b[0;34m,\u001b[0m\u001b[0;36m100\u001b[0m\u001b[0;34m,\u001b[0m\u001b[0;36m300\u001b[0m\u001b[0;34m)\u001b[0m\u001b[0;34m\u001b[0m\u001b[0m\n\u001b[0m\u001b[1;32m      2\u001b[0m \u001b[0;32mfor\u001b[0m \u001b[0mline\u001b[0m \u001b[0;32min\u001b[0m \u001b[0mislice\u001b[0m\u001b[0;34m(\u001b[0m\u001b[0mf\u001b[0m\u001b[0;34m,\u001b[0m \u001b[0;36m100\u001b[0m\u001b[0;34m,\u001b[0m \u001b[0;36m300\u001b[0m\u001b[0;34m)\u001b[0m\u001b[0;34m:\u001b[0m\u001b[0;34m\u001b[0m\u001b[0m\n\u001b[1;32m      3\u001b[0m     \u001b[0mprint\u001b[0m\u001b[0;34m(\u001b[0m\u001b[0mline\u001b[0m\u001b[0;34m)\u001b[0m\u001b[0;34m\u001b[0m\u001b[0m\n",
      "\u001b[0;31mNameError\u001b[0m: name 'islice' is not defined"
     ]
    }
   ],
   "source": [
    "from itertools import islice\n",
    "islice(f,100,300) # 100到300行\n",
    "islice(f,100,None) # 100到最后\n",
    "for line in islice(f, 100, 300):\n",
    "    print(line)"
   ]
  },
  {
   "cell_type": "markdown",
   "metadata": {},
   "source": [
    "如何在一个for语句中迭代多个可迭代对象？\n",
    "并行 同时合并可迭代列表\n",
    "串行 先迭代一个，再迭代一个，itertools.chain"
   ]
  },
  {
   "cell_type": "code",
   "execution_count": 41,
   "metadata": {},
   "outputs": [
    {
     "name": "stdout",
     "output_type": "stream",
     "text": [
      "168\n",
      "157\n",
      "178\n",
      "158\n",
      "143\n",
      "182\n",
      "181\n",
      "161\n",
      "153\n"
     ]
    }
   ],
   "source": [
    "from random import randint\n",
    "math = [randint(60,100) for _ in range(10)]\n",
    "english = [randint(60,100) for _ in range(10)]\n",
    "\n",
    "for i in range(len(math)-1):\n",
    "    print(math[i] + english[i]) # 使用引索\n"
   ]
  },
  {
   "cell_type": "code",
   "execution_count": 43,
   "metadata": {},
   "outputs": [
    {
     "name": "stdout",
     "output_type": "stream",
     "text": [
      "100 80\n",
      "93 77\n",
      "99 71\n",
      "85 78\n",
      "62 80\n",
      "71 75\n",
      "88 70\n",
      "86 73\n",
      "88 99\n",
      "79 79\n"
     ]
    },
    {
     "data": {
      "text/plain": [
       "<zip at 0x7ff41e86a988>"
      ]
     },
     "execution_count": 43,
     "metadata": {},
     "output_type": "execute_result"
    }
   ],
   "source": [
    "# zip, 如果数量不等，取最短的输出\n",
    "math = [randint(60,100) for _ in range(10)]\n",
    "english = [randint(60,100) for _ in range(10)]\n",
    "for x,y in zip(math,english):\n",
    "    print(x,y)\n",
    "zip(math,english)\n",
    "\n"
   ]
  },
  {
   "cell_type": "code",
   "execution_count": 48,
   "metadata": {},
   "outputs": [
    {
     "name": "stdout",
     "output_type": "stream",
     "text": [
      "7\n"
     ]
    }
   ],
   "source": [
    "#itertools\n",
    "from itertools import chain\n",
    "math = [randint(60,100) for _ in range(10)]\n",
    "english = [randint(60,100) for _ in range(10)]\n",
    "count = 0\n",
    "for x in chain(math,english):\n",
    "    # 选出单科90的人数\n",
    "    if x > 90:\n",
    "        count += 1\n",
    "print(count)"
   ]
  }
 ],
 "metadata": {
  "kernelspec": {
   "display_name": "Python 3",
   "language": "python",
   "name": "python3"
  },
  "language_info": {
   "codemirror_mode": {
    "name": "ipython",
    "version": 3
   },
   "file_extension": ".py",
   "mimetype": "text/x-python",
   "name": "python",
   "nbconvert_exporter": "python",
   "pygments_lexer": "ipython3",
   "version": "3.5.5"
  }
 },
 "nbformat": 4,
 "nbformat_minor": 2
}
