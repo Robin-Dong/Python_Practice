{
 "cells": [
  {
   "cell_type": "markdown",
   "metadata": {},
   "source": [
    "1. 如何拆分多种分隔符的字符串？\n",
    "例如s = 'ab;cd|efg|hi,jkl\\toqp;uwx\\tyz'\n",
    "s.split()默认空白，空格，tab，换行等\n",
    "s.split(',') 逗号分割，但不能同时多个分割符\n",
    "re.split(r'[;,\\t|]+', s]  推荐使用\n",
    "\n"
   ]
  },
  {
   "cell_type": "code",
   "execution_count": 1,
   "metadata": {
    "scrolled": true
   },
   "outputs": [
    {
     "name": "stdout",
     "output_type": "stream",
     "text": [
      "['ab', 'cd', 'efg', 'hi', 'jkl', 'oqp', 'uwx', 'yz']\n"
     ]
    }
   ],
   "source": [
    "## 方法一\n",
    "import re\n",
    "s = 'ab;cd|efg|hi,jkl\\toqp;uwx\\tyz'\n",
    "result = re.split(r'[;,\\t|]+', s)\n",
    "print(result)"
   ]
  },
  {
   "cell_type": "code",
   "execution_count": 21,
   "metadata": {},
   "outputs": [
    {
     "name": "stdout",
     "output_type": "stream",
     "text": [
      "ab;cd|efg|hi,jkl\toqp;uwx\tyz\n",
      "[]\n"
     ]
    }
   ],
   "source": [
    "# 方法二 循环使用str.split()\n",
    "def mySplit(s,ds):\n",
    "    res = s\n",
    "    print(res)\n",
    "    for d in ds:\n",
    "        t = []\n",
    "        map(lambda x: t.extend(x.split(d)),res)\n",
    "        \n",
    "        res = t\n",
    "    return res\n",
    "        \n",
    "s = 'ab;cd|efg|hi,jkl\\toqp;uwx\\tyz'\n",
    "result = mySplit(s, ';,|\\t')\n",
    "print(result)"
   ]
  },
  {
   "cell_type": "markdown",
   "metadata": {},
   "source": [
    "2.如何判断字符串a是否以字符串b开头或结尾\n",
    "如 quicksort.py\n",
    "start.sh\n",
    "hello.c\n",
    "head.java\n",
    "给.sh 和.py结尾的文件加上可执行权限\n",
    "\n",
    "使用字符串的str.startwith()和str.endswith()，多个匹配使用元组传参\n",
    "\n",
    "#修改文件权限，os.chmod\n",
    "os.stat('e.py')#文件状态\n",
    "os.stat('e.py').st_mode\n",
    "转为8进制\n",
    "oct（os.stat（‘e.py).st_mode)\n"
   ]
  },
  {
   "cell_type": "code",
   "execution_count": 30,
   "metadata": {},
   "outputs": [
    {
     "data": {
      "text/plain": [
       "['1.List & Dict.ipynb', '2.iterator.ipynb', '3.string.ipynb']"
      ]
     },
     "execution_count": 30,
     "metadata": {},
     "output_type": "execute_result"
    }
   ],
   "source": [
    "import os,stat\n",
    "[name for name in os.listdir('.') if name.endswith(('.txt','.ipynb'))]"
   ]
  },
  {
   "cell_type": "markdown",
   "metadata": {},
   "source": [
    "3.如何调整字符串中的文本格式？log文件\n",
    "将‘2018-11-12’调整为‘11/12/2018’，应如何处理"
   ]
  },
  {
   "cell_type": "code",
   "execution_count": 11,
   "metadata": {},
   "outputs": [
    {
     "name": "stdout",
     "output_type": "stream",
     "text": [
      "2018-11-12\n"
     ]
    }
   ],
   "source": [
    "import re\n",
    "#result = re.sub('(\\d{4})-(\\d{2})-(d{2})', r'\\2/\\3/\\1', '2018-11-12')\n",
    "a = '2018-11-12'\n",
    "result = re.sub('(?P<year>\\d{4})-(?P<month>\\d{2})-(?P<day>d{2})', r'\\g<month>/\\g<day>/\\g<year>', a)\n",
    "print(result)"
   ]
  },
  {
   "cell_type": "markdown",
   "metadata": {},
   "source": [
    "4.如何将多个小字符串拼接为一个大的字符串？\n",
    "换成l = ['abc','def','ght']\n",
    "1.使用‘+’号，少量\n",
    "2.str.join[l]"
   ]
  },
  {
   "cell_type": "code",
   "execution_count": 4,
   "metadata": {},
   "outputs": [
    {
     "name": "stdout",
     "output_type": "stream",
     "text": [
      "abcdefght\n"
     ]
    }
   ],
   "source": [
    "l = ['abc','def','ght']\n",
    "re = ''.join(x for x in l)\n",
    "print(re)"
   ]
  },
  {
   "cell_type": "markdown",
   "metadata": {},
   "source": [
    "5.如何对字符串进行左右居中的对齐？\n",
    "1.str.ljust(length),str.rjust(),str.center()\n",
    "2.format()方法，类似传递>>20"
   ]
  },
  {
   "cell_type": "code",
   "execution_count": 6,
   "metadata": {},
   "outputs": [
    {
     "data": {
      "text/plain": [
       "'        abc         '"
      ]
     },
     "execution_count": 6,
     "metadata": {},
     "output_type": "execute_result"
    }
   ],
   "source": [
    "s = 'abc'\n",
    "s.ljust(10)\n",
    "s.ljust(10,'-')\n",
    "s.rjust(10)\n",
    "s.center(20,'-')\n",
    "format(s,'<20') #左对齐\n",
    "format(s,'>20') #右对齐\n",
    "format(s,\"^20\") #居中"
   ]
  },
  {
   "cell_type": "markdown",
   "metadata": {},
   "source": [
    "6.去除字符串中不需要的字符？"
   ]
  },
  {
   "cell_type": "code",
   "execution_count": 11,
   "metadata": {},
   "outputs": [
    {
     "data": {
      "text/plain": [
       "{97: 120, 98: 121, 99: 122, 120: 97, 121: 98, 122: 99}"
      ]
     },
     "execution_count": 11,
     "metadata": {},
     "output_type": "execute_result"
    }
   ],
   "source": [
    "s = '---abc+++'\n",
    "s.strip('-+')\n",
    "s[:3] + s[4:]\n",
    "s.replace('---','')\n",
    "\n",
    "import re\n",
    "re.sub('[\\t\\r]',' ',s)\n",
    "\n",
    "# string translate 方法\n",
    "import string\n",
    "s.maketrans('abcxyz', 'xyzabc')"
   ]
  }
 ],
 "metadata": {
  "kernelspec": {
   "display_name": "Python 3",
   "language": "python",
   "name": "python3"
  },
  "language_info": {
   "codemirror_mode": {
    "name": "ipython",
    "version": 3
   },
   "file_extension": ".py",
   "mimetype": "text/x-python",
   "name": "python",
   "nbconvert_exporter": "python",
   "pygments_lexer": "ipython3",
   "version": "3.5.5"
  }
 },
 "nbformat": 4,
 "nbformat_minor": 2
}
