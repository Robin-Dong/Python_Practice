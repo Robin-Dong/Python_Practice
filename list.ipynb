{
 "cells": [
  {
   "cell_type": "markdown",
   "metadata": {},
   "source": [
    "#### 1. Write a Python program to sum all the items in a list. "
   ]
  },
  {
   "cell_type": "code",
   "execution_count": null,
   "metadata": {},
   "outputs": [],
   "source": [
    "def list_sum(li):\n",
    "    sum = 0\n",
    "    for i in li:\n",
    "        sum += i\n",
    "    return sum\n",
    "a = [1,2,5,8,9]\n",
    "list_sum(a)\n",
    "\n",
    "\n",
    "#sum(a)"
   ]
  },
  {
   "cell_type": "markdown",
   "metadata": {},
   "source": [
    "#### 2. Write a Python program to multiplies all the items in a list."
   ]
  },
  {
   "cell_type": "code",
   "execution_count": null,
   "metadata": {},
   "outputs": [],
   "source": [
    "def list_sum(li):\n",
    "    tot = 1\n",
    "    for i in li:\n",
    "        sum *= i\n",
    "    return tot\n",
    "a = [1,2,5,8,9]\n",
    "list_sum(a)"
   ]
  },
  {
   "cell_type": "markdown",
   "metadata": {},
   "source": [
    "#### 3.Write a Python program to get the largest number from a list."
   ]
  },
  {
   "cell_type": "code",
   "execution_count": null,
   "metadata": {},
   "outputs": [],
   "source": [
    "def get_the_largest(li):\n",
    "    target = li[0]\n",
    "    for i in li:\n",
    "        if i > target:\n",
    "            target = i\n",
    "    return target\n",
    "\n",
    "a = [1,4,9,45,16,22,6]\n",
    "get_the_largest(a)"
   ]
  },
  {
   "cell_type": "markdown",
   "metadata": {},
   "source": [
    "#### 4. Write a Python program to get the smallest number from a list. "
   ]
  },
  {
   "cell_type": "code",
   "execution_count": null,
   "metadata": {},
   "outputs": [],
   "source": [
    "def get_the_largest(li):\n",
    "    target = li[0]\n",
    "    for i in li:\n",
    "        if i < target:\n",
    "            target = i\n",
    "    return target\n",
    "\n",
    "a = [1,4,9,45,16,22,-6]\n",
    "get_the_largest(a)"
   ]
  },
  {
   "cell_type": "markdown",
   "metadata": {},
   "source": [
    "#### 5. Write a Python program to count the number of strings where the string length is 2 or more and the first and last character are same from a given list of strings."
   ]
  },
  {
   "cell_type": "code",
   "execution_count": null,
   "metadata": {},
   "outputs": [],
   "source": [
    "def get_string(li):\n",
    "    count = 0\n",
    "    for i in li:\n",
    "        if len(i) >= 2 and i[0] == i[-1]:\n",
    "            count +=1\n",
    "    return count\n",
    "\n",
    "a =  ['abc', 'xyz', 'aba', '1221']\n",
    "get_string(a)\n",
    "        \n",
    "    "
   ]
  },
  {
   "cell_type": "markdown",
   "metadata": {},
   "source": [
    "#### 6. Write a Python program to get a list, sorted in increasing order by the last element in each tuple from a given list of non-empty tuples."
   ]
  },
  {
   "cell_type": "code",
   "execution_count": null,
   "metadata": {},
   "outputs": [],
   "source": [
    "def get_list(t):\n",
    "    t = sorted(t,key=lambda x:x[-1])\n",
    "    return t\n",
    "get_list([(2, 5), (1, 2), (4, 4), (2, 3), (2, 1)])"
   ]
  },
  {
   "cell_type": "markdown",
   "metadata": {},
   "source": [
    "#### 7. Write a Python program to remove duplicates from a list."
   ]
  },
  {
   "cell_type": "code",
   "execution_count": null,
   "metadata": {},
   "outputs": [],
   "source": [
    "def remove_dup(li):\n",
    "    return list(set(li))\n",
    "\n",
    "a = [10,20,30,20,10,50,60,40,80,50,40]\n",
    "remove_dup(a)"
   ]
  },
  {
   "cell_type": "code",
   "execution_count": null,
   "metadata": {},
   "outputs": [],
   "source": [
    "a = [10,20,30,20,10,50,60,40,80,50,40]\n",
    "\n",
    "dup_items = set()\n",
    "uniq_items = []\n",
    "for x in a:\n",
    "    if x not in dup_items:\n",
    "        uniq_items.append(x)\n",
    "        dup_items.add(x)\n",
    "\n",
    "print(dup_items)"
   ]
  },
  {
   "cell_type": "markdown",
   "metadata": {},
   "source": [
    "#### 8. Write a Python program to check a list is empty or not."
   ]
  },
  {
   "cell_type": "code",
   "execution_count": null,
   "metadata": {},
   "outputs": [],
   "source": [
    "def check_list(li):\n",
    "    if li == []:\n",
    "        return True\n",
    "    else:\n",
    "        return False\n",
    "\n",
    "check_list([])\n",
    "check_list([1,2])\n",
    "\n",
    "'''\n",
    "l = []\n",
    "if not l:\n",
    "  print(\"List is empty\")\n",
    "'''"
   ]
  },
  {
   "cell_type": "markdown",
   "metadata": {},
   "source": [
    "#### 9. Write a Python program to clone or copy a list. "
   ]
  },
  {
   "cell_type": "code",
   "execution_count": null,
   "metadata": {},
   "outputs": [],
   "source": [
    "a = [10, 22, 44, 23, 4]\n",
    "result = list(a)\n",
    "print(result)\n",
    "print(id(a)==id(result))"
   ]
  },
  {
   "cell_type": "markdown",
   "metadata": {},
   "source": [
    "#### 10. Write a Python program to find the list of words that are longer than n from a given list of words. "
   ]
  },
  {
   "cell_type": "code",
   "execution_count": null,
   "metadata": {},
   "outputs": [],
   "source": [
    "def find_list(n,str):\n",
    "    word_list = []\n",
    "    li = str.split()\n",
    "    for i in li:\n",
    "        if len(i) > n:\n",
    "            word_list.append(i)\n",
    "    return word_list\n",
    "find_list(3, \"The quick brown fox jumps over the lazy dog\")"
   ]
  }
 ],
 "metadata": {
  "kernelspec": {
   "display_name": "Python 3",
   "language": "python",
   "name": "python3"
  },
  "language_info": {
   "codemirror_mode": {
    "name": "ipython",
    "version": 3
   },
   "file_extension": ".py",
   "mimetype": "text/x-python",
   "name": "python",
   "nbconvert_exporter": "python",
   "pygments_lexer": "ipython3",
   "version": "3.5.5"
  }
 },
 "nbformat": 4,
 "nbformat_minor": 2
}
