{
 "cells": [
  {
   "cell_type": "markdown",
   "metadata": {},
   "source": [
    "#### 1.Write a Python function that takes a sequence of numbers and determines if all the numbers are different from each other."
   ]
  },
  {
   "cell_type": "code",
   "execution_count": null,
   "metadata": {},
   "outputs": [],
   "source": [
    "def test_distinct(data):\n",
    "  if len(data) == len(set(data)):\n",
    "    return True\n",
    "  else:\n",
    "    return False;\n",
    "print(test_distinct([1,5,7,9]))\n",
    "print(test_distinct([2,4,5,5,7,9]))"
   ]
  },
  {
   "cell_type": "markdown",
   "metadata": {},
   "source": [
    "#### 2. Write a Python program to create all possible strings by using 'a', 'e', 'i', 'o', 'u'. Use the characters exactly once.   permutation排列"
   ]
  },
  {
   "cell_type": "code",
   "execution_count": null,
   "metadata": {},
   "outputs": [],
   "source": [
    "# Python function to print permutations of a given list \n",
    "def permutation(lst): \n",
    "  \n",
    "    # If lst is empty then there are no permutations \n",
    "    if len(lst) == 0: \n",
    "        return [] \n",
    "  \n",
    "    # If there is only one element in lst then, only \n",
    "    # one permuatation is possible \n",
    "    if len(lst) == 1: \n",
    "        return [lst] \n",
    "  \n",
    "    # Find the permutations for lst if there are \n",
    "    # more than 1 characters \n",
    "  \n",
    "    l = [] # empty list that will store current permutation \n",
    "  \n",
    "    # Iterate the input(lst) and calculate the permutation \n",
    "    for i in range(len(lst)): \n",
    "       m = lst[i] \n",
    "  \n",
    "       # Extract lst[i] or m from the list.  remLst is \n",
    "       # remaining list \n",
    "       remLst = lst[:i] + lst[i+1:] \n",
    "  \n",
    "       # Generating all permutations where m is first \n",
    "       # element \n",
    "       for p in permutation(remLst): \n",
    "           l.append([m] + p) \n",
    "    return l \n",
    "  \n",
    "  \n",
    "# Driver program to test above function \n",
    "data = list(['a','e','i','o','u']) \n",
    "for p in permutation(data): \n",
    "    print(''.join(p)) "
   ]
  },
  {
   "cell_type": "code",
   "execution_count": null,
   "metadata": {},
   "outputs": [],
   "source": [
    "from itertools import permutations \n",
    "l = list(permutations(range(1, 4))) \n",
    "print l "
   ]
  },
  {
   "cell_type": "markdown",
   "metadata": {},
   "source": [
    "#### 3.Write a Python program to remove and print every third number from a list of numbers until the list becomes empty.\n",
    "\n",
    "Input : [10, 20, 30, 40, 50, 60, 70, 80, 90]\n",
    "\n",
    "Output : 30 60 90 40 80 50 20 70 10"
   ]
  },
  {
   "cell_type": "code",
   "execution_count": null,
   "metadata": {},
   "outputs": [],
   "source": [
    "def remove_third_num(objects):\n",
    "    list_len = len(objects)\n",
    "    index = 0\n",
    "    position = 3-1\n",
    "    while list_len > 0:\n",
    "        index = (index + position)%list_len\n",
    "        print(objects.pop(index))\n",
    "        list_len -= 1\n",
    "list = [10,20,30,40,50,60,70,80,90]      \n",
    "remove_third_num(list)"
   ]
  },
  {
   "cell_type": "markdown",
   "metadata": {},
   "source": [
    "#### 4. Write a Python program to find unique triplets whose three elements gives the sum of zero from an array of n integers."
   ]
  },
  {
   "cell_type": "code",
   "execution_count": null,
   "metadata": {},
   "outputs": [],
   "source": [
    "# python program to find triplets in a given\n",
    "# array whose sum is zero\n",
    " \n",
    "# function to print triplets with 0 sum\n",
    "def findTriplets(arr, n):\n",
    " \n",
    "    found = False\n",
    " \n",
    "    # sort array elements\n",
    "    arr.sort()\n",
    " \n",
    "    for i in range(0, n-1):\n",
    "     \n",
    "        # initialize left and right\n",
    "        l = i + 1\n",
    "        r = n - 1\n",
    "        x = arr[i]\n",
    "        while (l < r):\n",
    "         \n",
    "            if (x + arr[l] + arr[r] == 0):\n",
    "                # print elements if it's sum is zero\n",
    "                print(x, arr[l], arr[r])\n",
    "                l+=1\n",
    "                r-=1\n",
    "                found = True\n",
    "             \n",
    " \n",
    "            # If sum of three elements is less\n",
    "            # than zero then increment in left\n",
    "            elif (x + arr[l] + arr[r] < 0):\n",
    "                l+=1\n",
    " \n",
    "            # if sum is greater than zero than\n",
    "            # decrement in right side\n",
    "            else:\n",
    "                r-=1\n",
    "         \n",
    "    if (found == False):\n",
    "        print(\" No Triplet Found\")\n",
    "        \n",
    "x = [1, -6, 4, 2, -1, 2, 0, -2, 0 ]\n",
    "n = len(x)\n",
    "findTriplets(x,n)"
   ]
  },
  {
   "cell_type": "markdown",
   "metadata": {},
   "source": [
    "#### 5.Write a Python program to create the combinations of 3 digit combo."
   ]
  },
  {
   "cell_type": "code",
   "execution_count": null,
   "metadata": {},
   "outputs": [],
   "source": [
    "numbers = []\n",
    "for num in range(1000):\n",
    "  num=str(num).zfill(3)\n",
    "  #print(num)\n",
    "  numbers.append(num)\n",
    "#print(numbers)"
   ]
  },
  {
   "cell_type": "markdown",
   "metadata": {
    "scrolled": true
   },
   "source": [
    "#### 6. Write a Python program to print a long text, convert the string to a list and print all the words and their frequencies."
   ]
  },
  {
   "cell_type": "code",
   "execution_count": null,
   "metadata": {},
   "outputs": [],
   "source": [
    "def word_freq(long_text):\n",
    "    word_dict = {}\n",
    "    for text in long_text.split():\n",
    "        word = text.strip(string.punctuation)\n",
    "        if word in word_dict:\n",
    "            word_dict[word] +=1\n",
    "        else:\n",
    "            word_dict[word] =1\n",
    "    return word_dict\n",
    "\n",
    "long_text = input()\n",
    "\n",
    "word_freq(long_text)\n"
   ]
  },
  {
   "cell_type": "code",
   "execution_count": null,
   "metadata": {},
   "outputs": [],
   "source": [
    "string_words = input()\n",
    "word_list = string_words.split()\n",
    "\n",
    "word_freq = [word_list.count(n) for n in word_list]\n",
    "\n",
    "print(\"String:\\n {} \\n\".format(string_words))\n",
    "print(\"List:\\n {} \\n\".format(str(word_list)))\n",
    "print(\"Pairs (Words and Frequencies:\\n {}\".format(str(list(zip(word_list, word_freq)))))\n"
   ]
  },
  {
   "cell_type": "markdown",
   "metadata": {},
   "source": [
    "#### 7. Write a Python program to count the number of each character of a given text of a text file. "
   ]
  },
  {
   "cell_type": "code",
   "execution_count": null,
   "metadata": {},
   "outputs": [],
   "source": [
    "import collections\n",
    "import pprint\n",
    "file_input = input('File Name: ')\n",
    "with open(file_input, 'r') as info:\n",
    "  count = collections.Counter(info.read())\n",
    "  value = pprint.pformat(count)\n",
    "print(value)"
   ]
  },
  {
   "cell_type": "markdown",
   "metadata": {},
   "source": [
    "#### 8. Write a Python program to get a list of locally installed Python modules."
   ]
  },
  {
   "cell_type": "code",
   "execution_count": null,
   "metadata": {},
   "outputs": [],
   "source": [
    "import pip\n",
    "import textwrap\n",
    "installed_packages = pip.get_installed_distributions()\n",
    "installed_packages_list = sorted([\"%s==%s\" % (i.key, i.version) for i in installed_packages])\n",
    "print(installed_packages_list)"
   ]
  },
  {
   "cell_type": "markdown",
   "metadata": {},
   "source": [
    "#### 9.Write a Python program to display some information about the OS where the script is running."
   ]
  },
  {
   "cell_type": "code",
   "execution_count": null,
   "metadata": {},
   "outputs": [],
   "source": [
    "import platform as pl\n",
    "\n",
    "os_profile = [\n",
    "        'architecture',\n",
    "        'linux_distribution',\n",
    "        'mac_ver',\n",
    "        'machine',\n",
    "        'node',\n",
    "        'platform',\n",
    "        'processor',\n",
    "        'python_build',\n",
    "        'python_compiler',\n",
    "        'python_version',\n",
    "        'release',\n",
    "        'system',\n",
    "        'uname',\n",
    "        'version',\n",
    "    ]\n",
    "for key in os_profile:\n",
    "    if hasattr(pl, key):\n",
    "        print(key +  \": \" + str(getattr(pl, key)()))"
   ]
  },
  {
   "cell_type": "code",
   "execution_count": null,
   "metadata": {},
   "outputs": [],
   "source": []
  }
 ],
 "metadata": {
  "kernelspec": {
   "display_name": "Python 3",
   "language": "python",
   "name": "python3"
  },
  "language_info": {
   "codemirror_mode": {
    "name": "ipython",
    "version": 3
   },
   "file_extension": ".py",
   "mimetype": "text/x-python",
   "name": "python",
   "nbconvert_exporter": "python",
   "pygments_lexer": "ipython3",
   "version": "3.5.5"
  }
 },
 "nbformat": 4,
 "nbformat_minor": 2
}
